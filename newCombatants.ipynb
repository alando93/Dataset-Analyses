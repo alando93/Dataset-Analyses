{
 "cells": [
  {
   "cell_type": "code",
   "execution_count": 139,
   "metadata": {},
   "outputs": [],
   "source": [
    "import openpyxl\n",
    "#filename = input('Enter workbook filename: ')\n",
    "filename = 'Marvel v2 ProgressionCombatant.xlsx'\n",
    "wb = openpyxl.load_workbook(filename)"
   ]
  },
  {
   "cell_type": "code",
   "execution_count": 140,
   "metadata": {
    "collapsed": true
   },
   "outputs": [],
   "source": [
    "characters = [['claireTemple','Female'],['crossbones','Male'],['devilDinosaur','Unique Pet']]"
   ]
  },
  {
   "cell_type": "code",
   "execution_count": 141,
   "metadata": {},
   "outputs": [
    {
     "name": "stdout",
     "output_type": "stream",
     "text": [
      "First ten sheets: ['Reference', 'Template', 'antManCbt', 'adamWarlockCbt', 'agent13Cbt', 'agentVenomCbt', 'americaChavezCbt', 'angelaCbt', 'aresCbt', 'auranCbt']\n",
      "Number of sheets: 54\n"
     ]
    }
   ],
   "source": [
    "sheet_count = len(wb.get_sheet_names())\n",
    "print('First ten sheets: ' + str(wb.get_sheet_names()[:10]))\n",
    "print('Number of sheets: ' + str(sheet_count))"
   ]
  },
  {
   "cell_type": "code",
   "execution_count": 143,
   "metadata": {},
   "outputs": [
    {
     "name": "stdout",
     "output_type": "stream",
     "text": [
      "New sheets copied: ['claireTempleCbt1', 'crossbonesCbt', 'devilDinosaurCbt']\n"
     ]
    }
   ],
   "source": [
    "#target = wb.copy_worksheet(antManCbt)\n",
    "#newsheetname = wb.get_sheet_names()[-1]\n",
    "#wb.get_sheet_by_name(newsheetname).title = 'newSheet'\n",
    "#newsheet = wb.get_sheet_by_name('newSheet')\n",
    "\n",
    "antManCbt = wb.get_sheet_by_name('antManCbt')\n",
    "agent13Cbt = wb.get_sheet_by_name('agent13Cbt')\n",
    "\n",
    "for i in range(0,len(characters)):\n",
    "    if characters[i][1] == 'Female':\n",
    "        target = wb.copy_worksheet(agent13Cbt)\n",
    "        newsheetname = wb.get_sheet_names()[-1]\n",
    "        wb.get_sheet_by_name(newsheetname).title = str(characters[i][0]) + 'Cbt'\n",
    "    else:\n",
    "        target = wb.copy_worksheet(antManCbt)\n",
    "        newsheetname = wb.get_sheet_names()[-1]\n",
    "        wb.get_sheet_by_name(newsheetname).title = str(characters[i][0]) + 'Cbt'\n",
    "\n",
    "print('New sheets copied: ' + str(wb.get_sheet_names()[-len(characters):]))"
   ]
  },
  {
   "cell_type": "code",
   "execution_count": 144,
   "metadata": {},
   "outputs": [],
   "source": [
    "#print('New sheets copied: ' + str(wb.get_sheet_names()[-len(characters):]))"
   ]
  },
  {
   "cell_type": "code",
   "execution_count": 145,
   "metadata": {},
   "outputs": [
    {
     "name": "stdout",
     "output_type": "stream",
     "text": [
      "copy:  agent13\n",
      "new char: claireTemple\n",
      "copy:  antManCbt\n",
      "new char: crossbones\n",
      "copy:  antManCbt\n",
      "new char: devilDinosaur\n"
     ]
    }
   ],
   "source": [
    "def replace_cells(character):\n",
    "    for i in range(1,272):\n",
    "            for j in range(1,20):\n",
    "                if type(currentsheet.cell(row = i, column = j).value) == str:\n",
    "                    #print(currentsheet)\n",
    "                    currentsheet.cell(row = i, column = j).value = currentsheet.cell(row = i, column = j).value.replace(character, str(characters[k][0]))\n",
    "    print('copy: ',str(character))\n",
    "    print('new char:' ,str(characters[k][0]))\n",
    "\n",
    "                    \n",
    "                    \n",
    "k = 0   \n",
    "for i in range(0, len(characters)):\n",
    "    currentsheet = wb.get_sheet_by_name(str(wb.get_sheet_names()[-len(characters) + i]))\n",
    "    if characters[i][1] == 'Female':\n",
    "        replace_cells('agent13')\n",
    "    else:\n",
    "        replace_cells('antManCbt')\n",
    "    k += 1\n",
    "    #print(k)"
   ]
  },
  {
   "cell_type": "code",
   "execution_count": 146,
   "metadata": {},
   "outputs": [
    {
     "data": {
      "text/plain": [
       "'[\"crossbones_r1\", \\n\"crossbones_r2\", \\n\"crossbones_r3\", \\n\"crossbones_r4\", \\n\"crossbones_r5\"]'"
      ]
     },
     "execution_count": 146,
     "metadata": {},
     "output_type": "execute_result"
    }
   ],
   "source": [
    "crossbonesCbt =  wb.get_sheet_by_name('crossbonesCbt')\n",
    "crossbonesCbt['C7'].value"
   ]
  },
  {
   "cell_type": "code",
   "execution_count": 148,
   "metadata": {},
   "outputs": [
    {
     "data": {
      "text/plain": [
       "'[\"devilDinosaur_r1\", \\n\"devilDinosaur_r2\", \\n\"devilDinosaur_r3\", \\n\"devilDinosaur_r4\", \\n\"devilDinosaur_r5\"]'"
      ]
     },
     "execution_count": 148,
     "metadata": {},
     "output_type": "execute_result"
    }
   ],
   "source": [
    "devilDinosaurCbt =  wb.get_sheet_by_name('devilDinosaurCbt')\n",
    "devilDinosaurCbt['C7'].value"
   ]
  },
  {
   "cell_type": "code",
   "execution_count": 158,
   "metadata": {},
   "outputs": [
    {
     "data": {
      "text/plain": [
       "'CHARACTER_FULLNAME_claireTemple'"
      ]
     },
     "execution_count": 158,
     "metadata": {},
     "output_type": "execute_result"
    }
   ],
   "source": [
    "claireTempleCbt =  wb.get_sheet_by_name('claireTempleCbt1')\n",
    "claireTempleCbt['E7'].value"
   ]
  },
  {
   "cell_type": "code",
   "execution_count": null,
   "metadata": {
    "collapsed": true
   },
   "outputs": [],
   "source": []
  },
  {
   "cell_type": "code",
   "execution_count": 9,
   "metadata": {
    "collapsed": true
   },
   "outputs": [],
   "source": []
  },
  {
   "cell_type": "code",
   "execution_count": null,
   "metadata": {},
   "outputs": [],
   "source": []
  }
 ],
 "metadata": {
  "kernelspec": {
   "display_name": "Python 3",
   "language": "python",
   "name": "python3"
  },
  "language_info": {
   "codemirror_mode": {
    "name": "ipython",
    "version": 3
   },
   "file_extension": ".py",
   "mimetype": "text/x-python",
   "name": "python",
   "nbconvert_exporter": "python",
   "pygments_lexer": "ipython3",
   "version": "3.6.1"
  }
 },
 "nbformat": 4,
 "nbformat_minor": 2
}
