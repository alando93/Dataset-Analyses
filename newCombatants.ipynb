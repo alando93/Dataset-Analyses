{
 "cells": [
  {
   "cell_type": "code",
   "execution_count": 1,
   "metadata": {},
   "outputs": [
    {
     "name": "stdout",
     "output_type": "stream",
     "text": [
      "Enter workbook filename: Marvel v2 ProgressionCombatant.xlsx\n"
     ]
    }
   ],
   "source": [
    "import openpyxl\n",
    "filename = input('Enter workbook filename: ')\n",
    "wb = openpyxl.load_workbook(filename)"
   ]
  },
  {
   "cell_type": "code",
   "execution_count": 11,
   "metadata": {},
   "outputs": [],
   "source": [
    "characters = [['claireTemple','Female'],['crossbones','Male'],['devilDinosaur','Unique Pet']]"
   ]
  },
  {
   "cell_type": "code",
   "execution_count": 38,
   "metadata": {},
   "outputs": [
    {
     "data": {
      "text/plain": [
       "['Reference',\n",
       " 'Template',\n",
       " 'antManCbt',\n",
       " 'adamWarlockCbt',\n",
       " 'agent13Cbt',\n",
       " 'agentVenomCbt',\n",
       " 'americaChavezCbt',\n",
       " 'angelaCbt',\n",
       " 'aresCbt',\n",
       " 'auranCbt']"
      ]
     },
     "execution_count": 38,
     "metadata": {},
     "output_type": "execute_result"
    }
   ],
   "source": [
    "wb.get_sheet_names()[:10]"
   ]
  },
  {
   "cell_type": "code",
   "execution_count": 18,
   "metadata": {
    "collapsed": true
   },
   "outputs": [],
   "source": [
    "antManCbt = wb.get_sheet_by_name('antManCbt')\n",
    "agent13Cbt = wb.get_sheet_by_name('agent13Cbt')"
   ]
  },
  {
   "cell_type": "code",
   "execution_count": 26,
   "metadata": {},
   "outputs": [],
   "source": [
    "target = wb.copy_worksheet(antManCbt)\n",
    "newsheetname = wb.get_sheet_names()[-1]\n",
    "wb.get_sheet_by_name(newsheetname).title = 'newSheet'\n",
    "newsheet = wb.get_sheet_by_name('newSheet')"
   ]
  },
  {
   "cell_type": "code",
   "execution_count": 31,
   "metadata": {},
   "outputs": [
    {
     "data": {
      "text/plain": [
       "'[\"antManCbt_r1\", \\n\"antManCbt_r2\", \\n\"antManCbt_r3\", \\n\"antManCbt_r4\", \\n\"antManCbt_r5\"]'"
      ]
     },
     "execution_count": 31,
     "metadata": {},
     "output_type": "execute_result"
    }
   ],
   "source": [
    "newsheet['C7'].value"
   ]
  },
  {
   "cell_type": "code",
   "execution_count": 33,
   "metadata": {},
   "outputs": [],
   "source": [
    "newsheet['C7'].value = newsheet['C7'].value.replace('antMan', 'ironMan')"
   ]
  },
  {
   "cell_type": "code",
   "execution_count": 46,
   "metadata": {},
   "outputs": [
    {
     "data": {
      "text/plain": [
       "'[\"hiCbt_r1\", \\n\"hiCbt_r2\", \\n\"hiCbt_r3\", \\n\"hiCbt_r4\", \\n\"hiCbt_r5\"]'"
      ]
     },
     "execution_count": 46,
     "metadata": {},
     "output_type": "execute_result"
    }
   ],
   "source": [
    "newsheet.cell(row = 7, column = 3).value.replace('ironMan','hi')"
   ]
  },
  {
   "cell_type": "code",
   "execution_count": null,
   "metadata": {},
   "outputs": [],
   "source": []
  },
  {
   "cell_type": "code",
   "execution_count": 57,
   "metadata": {},
   "outputs": [],
   "source": [
    "for i in range(1,272):\n",
    "    for j in range(1,20):\n",
    "        if type(newsheet.cell(row = i, column = j).value) == str:\n",
    "            newsheet.cell(row = i, column = j).value = newsheet.cell(row = i, column = j).value.replace('antMan', 'ironMan')"
   ]
  },
  {
   "cell_type": "code",
   "execution_count": 60,
   "metadata": {},
   "outputs": [
    {
     "data": {
      "text/plain": [
       "'ironManCbt_powerSetA'"
      ]
     },
     "execution_count": 60,
     "metadata": {},
     "output_type": "execute_result"
    }
   ],
   "source": [
    "newsheet.cell(row = 70, column = 2).value"
   ]
  }
 ],
 "metadata": {
  "kernelspec": {
   "display_name": "Python 3",
   "language": "python",
   "name": "python3"
  },
  "language_info": {
   "codemirror_mode": {
    "name": "ipython",
    "version": 3
   },
   "file_extension": ".py",
   "mimetype": "text/x-python",
   "name": "python",
   "nbconvert_exporter": "python",
   "pygments_lexer": "ipython3",
   "version": "3.6.1"
  }
 },
 "nbformat": 4,
 "nbformat_minor": 2
}
