{
 "cells": [
  {
   "cell_type": "code",
   "execution_count": 99,
   "metadata": {
    "collapsed": true
   },
   "outputs": [],
   "source": [
    "import openpyxl\n",
    "import pandas as pd\n",
    "\n",
    "#filename = input('Enter workbook filename: ')\n",
    "filename = 'Marvel v2 ProgressionCombatant.xlsx'\n",
    "wb = openpyxl.load_workbook(filename)\n",
    "\n",
    "characterlist = 'characterlist.csv'\n",
    "df = pd.read_csv(characterlist, sep=',',header=0)"
   ]
  },
  {
   "cell_type": "code",
   "execution_count": 100,
   "metadata": {},
   "outputs": [
    {
     "name": "stdout",
     "output_type": "stream",
     "text": [
      "<class 'pandas.core.frame.DataFrame'>\n",
      "Int64Index: 119 entries, 1 to 104\n",
      "Data columns (total 2 columns):\n",
      "character_id    115 non-null object\n",
      "Rig             119 non-null object\n",
      "dtypes: object(2)\n",
      "memory usage: 2.8+ KB\n",
      "None\n",
      "    character_id     Rig\n",
      "1    adamWarlock    Male\n",
      "2        agent13  Female\n",
      "3     agentVenom    Male\n",
      "4   aimScientist    Male\n",
      "6  americaChavez  Female\n"
     ]
    }
   ],
   "source": [
    "dfmale = df[df['Rig'] == 'Male']\n",
    "dffemale = df[df['Rig'] == 'Female']\n",
    "dfsorted = dfmale.append(dffemale)\n",
    "dfsorted = dfsorted.sort_values('character_id')\n",
    "print(dfsorted.info())\n",
    "print(dfsorted.head(5))"
   ]
  },
  {
   "cell_type": "code",
   "execution_count": 101,
   "metadata": {},
   "outputs": [
    {
     "name": "stdout",
     "output_type": "stream",
     "text": [
      "<class 'pandas.core.frame.DataFrame'>\n",
      "Int64Index: 115 entries, 1 to 139\n",
      "Data columns (total 2 columns):\n",
      "character_id    115 non-null object\n",
      "Rig             115 non-null object\n",
      "dtypes: object(2)\n",
      "memory usage: 2.7+ KB\n"
     ]
    }
   ],
   "source": [
    "dfsorted = dfsorted.dropna()\n",
    "dfsorted.info()"
   ]
  },
  {
   "cell_type": "code",
   "execution_count": 102,
   "metadata": {},
   "outputs": [
    {
     "name": "stdout",
     "output_type": "stream",
     "text": [
      "First ten sheets: ['Reference', 'Template', 'antManCbt', 'adamWarlockCbt', 'agent13Cbt', 'agentVenomCbt', 'americaChavezCbt', 'angelaCbt', 'aresCbt', 'auranCbt']\n",
      "Number of sheets: 54\n"
     ]
    }
   ],
   "source": [
    "sheet_count = len(wb.get_sheet_names())\n",
    "print('First ten sheets: ' + str(wb.get_sheet_names()[:10]))\n",
    "print('Number of sheets: ' + str(sheet_count))"
   ]
  },
  {
   "cell_type": "code",
   "execution_count": 103,
   "metadata": {},
   "outputs": [
    {
     "name": "stdout",
     "output_type": "stream",
     "text": [
      "New sheets copied: ['adamWarlockCbt1', 'agent13Cbt1', 'agentVenomCbt1', 'aimScientistCbt', 'americaChavezCbt1', 'ancientOneCbt', 'angelaCbt1', 'antManCbt1', 'aresCbt1', 'auranCbt1', 'baronZemoCbt1', 'betaRayBillCbt', 'blackBoltCbt1', 'blackCatCbt1', 'blackKnightCbt1', 'blackPantherCbt1', 'bladeCbt1', 'captainAmerica2099Cbt1', 'captainBritainCbt1', 'captainMarvelCbt1', 'claireTempleCbt1', 'collectorCbt', 'colleenWingCbt', 'crimsonDynamoCbt', 'crossbonesCbt', 'crystalCbt', 'daredevilCbt1', 'drOctopusCbt', 'drStrangeCbt', 'drVoodooCbt', 'draculaCbt', 'draxCbt1', 'dumDumDuganCbt', 'electroCbt', 'elektraCbt1', 'elsaBloodstoneCbt', 'firebirdCbt', 'foggyNelsonCbt', 'friggaCbt', 'gamoraCbt', 'ghostRiderCbt', 'ghostRider2099Cbt1', 'gorgonCbt', 'grandmasterCbt', 'greenGoblinCbt', 'grootCbt', 'hankPymCbt', 'heimdallCbt', 'hellcatCbt', 'herculesCbt', 'hulklingCbt', 'ironFistCbt', 'ironLadCbt', 'ironheartCbt', 'jJonahJamesonCbt', 'jackOLanternCbt', 'jarvisCbt', 'jasperSitwellCbt', 'jessicaJonesCbt', 'karnakCbt', 'kateBishopCbt', 'keeperMurdockCbt', 'korgCbt', 'leaderCbt', 'lizardCbt', 'longbowCbt', 'luckyCbt', 'lukeCageCbt', 'madameHydraCbt', 'mantisCbt', 'maryJaneCbt', 'medusaCbt', 'miekCbt', 'milesMoralesCbt', 'mistyKnightCbt', 'moonGirlCbt', 'moonKnightCbt', 'mordoCbt', 'mysterioCbt', 'nebulaCbt', 'nickFuryCharacterCbt', 'nicoMinoruCbt', 'novaCbt', 'peggyCarterCbt', 'pepperPottsCbt', 'punisherCbt', 'satanaCbt', 'sheHulkCbt', 'sifCbt', 'silkCbt', 'silverSableCbt', 'singularityCbt', 'spiderGirlCbt', 'spiderGwenCbt', 'spiderManCbt', 'spiderMan2099Cbt', 'squirrelGirlCbt', 'starLordCbt1', 'stickCbt', 'stingerCbt', 'taskmasterCbt1', 'thorCbt', 'thorNoirCbt', 'tritonCbt', 'ultronCbt', 'unionJackCbt', 'valkyrieCbt', 'vampireByNightCbt', 'vivCbt', 'werewolfByNightCbt1', 'whiplashCbt1', 'wonderManCbt1', 'wongCbt1', 'yellowjacketCbt1', 'yonduCbt1']\n"
     ]
    }
   ],
   "source": [
    "#target = wb.copy_worksheet(antManCbt)\n",
    "#newsheetname = wb.get_sheet_names()[-1]\n",
    "#wb.get_sheet_by_name(newsheetname).title = 'newSheet'\n",
    "#newsheet = wb.get_sheet_by_name('newSheet')\n",
    "\n",
    "antManCbt = wb.get_sheet_by_name('antManCbt')\n",
    "agent13Cbt = wb.get_sheet_by_name('agent13Cbt')\n",
    "\n",
    "for i in range(0,len(dfsorted)):\n",
    "    if dfsorted.values[i][1] == 'Female':\n",
    "        target = wb.copy_worksheet(agent13Cbt)\n",
    "        newsheetname = wb.get_sheet_names()[-1]\n",
    "        wb.get_sheet_by_name(newsheetname).title = str(dfsorted.values[i][0]) + 'Cbt'\n",
    "    else:\n",
    "        target = wb.copy_worksheet(antManCbt)\n",
    "        newsheetname = wb.get_sheet_names()[-1]\n",
    "        wb.get_sheet_by_name(newsheetname).title = str(dfsorted.values[i][0]) + 'Cbt'\n",
    "\n",
    "print('New sheets copied: ' + str(wb.get_sheet_names()[-len(dfsorted):]))"
   ]
  },
  {
   "cell_type": "code",
   "execution_count": 104,
   "metadata": {
    "collapsed": true
   },
   "outputs": [],
   "source": [
    "#print('New sheets copied: ' + str(wb.get_sheet_names()[-len(characters):]))"
   ]
  },
  {
   "cell_type": "code",
   "execution_count": 105,
   "metadata": {},
   "outputs": [
    {
     "name": "stdout",
     "output_type": "stream",
     "text": [
      "new char copied: adamWarlock ...\n",
      "new char copied: agent13 ...\n",
      "new char copied: agentVenom ...\n",
      "new char copied: aimScientist ...\n",
      "new char copied: americaChavez ...\n",
      "new char copied: ancientOne ...\n",
      "new char copied: angela ...\n",
      "new char copied: antMan ...\n",
      "new char copied: ares ...\n",
      "new char copied: auran ...\n",
      "new char copied: baronZemo ...\n",
      "new char copied: betaRayBill ...\n",
      "new char copied: blackBolt ...\n",
      "new char copied: blackCat ...\n",
      "new char copied: blackKnight ...\n",
      "new char copied: blackPanther ...\n",
      "new char copied: blade ...\n",
      "new char copied: captainAmerica2099 ...\n",
      "new char copied: captainBritain ...\n",
      "new char copied: captainMarvel ...\n",
      "new char copied: claireTemple ...\n",
      "new char copied: collector ...\n",
      "new char copied: colleenWing ...\n",
      "new char copied: crimsonDynamo ...\n",
      "new char copied: crossbones ...\n",
      "new char copied: crystal ...\n",
      "new char copied: daredevil ...\n",
      "new char copied: drOctopus ...\n",
      "new char copied: drStrange ...\n",
      "new char copied: drVoodoo ...\n",
      "new char copied: dracula ...\n",
      "new char copied: drax ...\n",
      "new char copied: dumDumDugan ...\n",
      "new char copied: electro ...\n",
      "new char copied: elektra ...\n",
      "new char copied: elsaBloodstone ...\n",
      "new char copied: firebird ...\n",
      "new char copied: foggyNelson ...\n",
      "new char copied: frigga ...\n",
      "new char copied: gamora ...\n",
      "new char copied: ghostRider ...\n",
      "new char copied: ghostRider2099 ...\n",
      "new char copied: gorgon ...\n",
      "new char copied: grandmaster ...\n",
      "new char copied: greenGoblin ...\n",
      "new char copied: groot ...\n",
      "new char copied: hankPym ...\n",
      "new char copied: heimdall ...\n",
      "new char copied: hellcat ...\n",
      "new char copied: hercules ...\n",
      "new char copied: hulkling ...\n",
      "new char copied: ironFist ...\n",
      "new char copied: ironLad ...\n",
      "new char copied: ironheart ...\n",
      "new char copied: jJonahJameson ...\n",
      "new char copied: jackOLantern ...\n",
      "new char copied: jarvis ...\n",
      "new char copied: jasperSitwell ...\n",
      "new char copied: jessicaJones ...\n",
      "new char copied: karnak ...\n",
      "new char copied: kateBishop ...\n",
      "new char copied: keeperMurdock ...\n",
      "new char copied: korg ...\n",
      "new char copied: leader ...\n",
      "new char copied: lizard ...\n",
      "new char copied: longbow ...\n",
      "new char copied: lucky ...\n",
      "new char copied: lukeCage ...\n",
      "new char copied: madameHydra ...\n",
      "new char copied: mantis ...\n",
      "new char copied: maryJane ...\n",
      "new char copied: medusa ...\n",
      "new char copied: miek ...\n",
      "new char copied: milesMorales ...\n",
      "new char copied: mistyKnight ...\n",
      "new char copied: moonGirl ...\n",
      "new char copied: moonKnight ...\n",
      "new char copied: mordo ...\n",
      "new char copied: mysterio ...\n",
      "new char copied: nebula ...\n",
      "new char copied: nickFuryCharacter ...\n",
      "new char copied: nicoMinoru ...\n",
      "new char copied: nova ...\n",
      "new char copied: peggyCarter ...\n",
      "new char copied: pepperPotts ...\n",
      "new char copied: punisher ...\n",
      "new char copied: satana ...\n",
      "new char copied: sheHulk ...\n",
      "new char copied: sif ...\n",
      "new char copied: silk ...\n",
      "new char copied: silverSable ...\n",
      "new char copied: singularity ...\n",
      "new char copied: spiderGirl ...\n",
      "new char copied: spiderGwen ...\n",
      "new char copied: spiderMan ...\n",
      "new char copied: spiderMan2099 ...\n",
      "new char copied: squirrelGirl ...\n",
      "new char copied: starLord ...\n",
      "new char copied: stick ...\n",
      "new char copied: stinger ...\n",
      "new char copied: taskmaster ...\n",
      "new char copied: thor ...\n",
      "new char copied: thorNoir ...\n",
      "new char copied: triton ...\n",
      "new char copied: ultron ...\n",
      "new char copied: unionJack ...\n",
      "new char copied: valkyrie ...\n",
      "new char copied: vampireByNight ...\n",
      "new char copied: viv ...\n",
      "new char copied: werewolfByNight ...\n",
      "new char copied: whiplash ...\n",
      "new char copied: wonderMan ...\n",
      "new char copied: wong ...\n",
      "new char copied: yellowjacket ...\n",
      "new char copied: yondu ...\n"
     ]
    }
   ],
   "source": [
    "def replace_cells(character):\n",
    "    for i in range(1,275):\n",
    "            for j in range(1,20):\n",
    "                if type(currentsheet.cell(row = i, column = j).value) == str:\n",
    "                    #print(currentsheet)\n",
    "                    currentsheet.cell(row = i, column = j).value = currentsheet.cell(row = i, column = j).value.replace(character, str(dfsorted.values[k][0]))\n",
    "    #print('copy: ',str(character))\n",
    "    print('new char copied:' ,str(dfsorted.values[k][0]),'...')\n",
    "\n",
    "                    \n",
    "                    \n",
    "k = 0   \n",
    "for i in range(0, len(dfsorted)):\n",
    "    currentsheet = wb.get_sheet_by_name(str(wb.get_sheet_names()[-len(dfsorted) + i]))\n",
    "    if dfsorted.values[i][1] == 'Female':\n",
    "        replace_cells('agent13')\n",
    "    else:\n",
    "        replace_cells('antMan')\n",
    "    k += 1\n",
    "    #print(k)"
   ]
  },
  {
   "cell_type": "code",
   "execution_count": 106,
   "metadata": {},
   "outputs": [],
   "source": [
    "#crossbonesCbt =  wb.get_sheet_by_name('crossbonesCbt')\n",
    "#crossbonesCbt['C7'].value"
   ]
  },
  {
   "cell_type": "code",
   "execution_count": 107,
   "metadata": {},
   "outputs": [],
   "source": [
    "#claireTempleCbt =  wb.get_sheet_by_name('claireTempleCbt1')\n",
    "#claireTempleCbt['E7'].value"
   ]
  },
  {
   "cell_type": "code",
   "execution_count": 110,
   "metadata": {},
   "outputs": [
    {
     "name": "stdout",
     "output_type": "stream",
     "text": [
      "new file name:  Marvel_v2_ProgressionCombatant_updated.xlsx\n"
     ]
    }
   ],
   "source": [
    "newfilename = filename.replace('.xlsx','_updated.xlsx').replace(' ','_')\n",
    "print('new file name: ',newfilename)"
   ]
  },
  {
   "cell_type": "code",
   "execution_count": 109,
   "metadata": {
    "collapsed": true
   },
   "outputs": [],
   "source": [
    "wb.save(newfilename)"
   ]
  },
  {
   "cell_type": "code",
   "execution_count": null,
   "metadata": {
    "collapsed": true
   },
   "outputs": [],
   "source": []
  }
 ],
 "metadata": {
  "kernelspec": {
   "display_name": "Python 3",
   "language": "python",
   "name": "python3"
  },
  "language_info": {
   "codemirror_mode": {
    "name": "ipython",
    "version": 3
   },
   "file_extension": ".py",
   "mimetype": "text/x-python",
   "name": "python",
   "nbconvert_exporter": "python",
   "pygments_lexer": "ipython3",
   "version": "3.6.1"
  }
 },
 "nbformat": 4,
 "nbformat_minor": 2
}
